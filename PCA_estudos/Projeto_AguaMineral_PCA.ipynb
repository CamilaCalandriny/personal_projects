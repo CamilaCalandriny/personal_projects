{
 "cells": [
  {
   "cell_type": "markdown",
   "metadata": {},
   "source": [
    "## ESTUDO DE ÁGUA MINERAL COMERCIALIZADAS EM BRASÍLIA-DF ATRAVÉS DE UM MODELO DE PCA \n"
   ]
  },
  {
   "cell_type": "markdown",
   "metadata": {},
   "source": [
    "O objetivo desse trabalho é, com as informações fornecidas nos próprios rótulos das marcas, tentar identificar padrões e ver como essas diferentes marcas se relacionam. Também é verificar quais marcas se relacionam e como as fontes das águas se relacionam umas com as outras. Verificar quais propriedades são mais importantes para a correlacionar as diferentes águas. Há também um dado de uma água potável, não relacionada com as águas minerais, e o objetivo com essa amostra é ver quão relacionada ela é com as outras amostras de água mineral."
   ]
  },
  {
   "cell_type": "code",
   "execution_count": null,
   "metadata": {},
   "outputs": [],
   "source": [
    "#Importando as Bibliotecas\n",
    "import pandas as pd\n",
    "import numpy as np\n",
    "import seaborn as sns\n",
    "import matplotlib.pyplot as plt\n",
    "from sklearn.decomposition import PCA\n",
    "from sklearn.preprocessing import StandardScaler\n",
    "%matplotlib inline"
   ]
  },
  {
   "cell_type": "code",
   "execution_count": null,
   "metadata": {},
   "outputs": [],
   "source": [
    "#Carregando e mostrando os dados no formato dataframe\n",
    "df = pd.read_csv('/mnt/c/Users/camil/OneDrive/Área de Trabalho/Scripts-python/Coursera_python_labnotes/Dados àgua Mineral Mercado_12_04_2022.csv',sep=';')\n",
    "df.head()"
   ]
  },
  {
   "cell_type": "markdown",
   "metadata": {},
   "source": [
    "## Tratamento dos Dados\n",
    "Depois de importar as bibliotecas e o arquivo com os dados, o primeiro passo é o tratamento de dados.\n",
    "Os valores NaN (nulos) das colunas de cloro, sódio, potássio e nitrato, foram substituidos pelos valores das médias da colunas. "
   ]
  },
  {
   "cell_type": "code",
   "execution_count": null,
   "metadata": {},
   "outputs": [],
   "source": [
    "# Substituindo os valores NaN pela média da coluna\n",
    "avg_clor = df[\"Cloreto (mg/L)\"].astype(\"float\").mean(axis=0)\n",
    "avg_sodio = df[\"Sódio (mg/L)\"].astype(\"float\").mean(axis=0)\n",
    "avg_potassio = df[\"Potássio (mg/L)\"].astype(\"float\").mean(axis=0)\n",
    "avg_nitrato = df[\"Nitrato (mg/L)\"].astype(\"float\").mean(axis=0)\n",
    "\n",
    "\n",
    "print('Média Cloreto:', avg_clor)\n",
    "print('Média Sódio:', avg_sodio)\n",
    "print('Média Potássio:', avg_potassio)\n",
    "print('Média Nitrato:', avg_nitrato)"
   ]
  },
  {
   "cell_type": "code",
   "execution_count": null,
   "metadata": {},
   "outputs": [],
   "source": [
    "# Substituindo os valores \n",
    "df[\"Cloreto (mg/L)\"].replace(np.nan, avg_clor, inplace=True)"
   ]
  },
  {
   "cell_type": "code",
   "execution_count": null,
   "metadata": {},
   "outputs": [],
   "source": [
    "# Substituindo os valores \n",
    "df[\"Sódio (mg/L)\"].replace(np.nan, avg_sodio, inplace=True)\n",
    "df[\"Potássio (mg/L)\"].replace(np.nan, avg_potassio, inplace=True)\n",
    "df[\"Nitrato (mg/L)\"].replace(np.nan, avg_nitrato, inplace=True)"
   ]
  },
  {
   "cell_type": "markdown",
   "metadata": {},
   "source": [
    "Há muitas variáveis e nem todas as marcas possuem todas as informações. As variáveis escolhidas foram aquelas no qual a maioria das marcas tinham informações."
   ]
  },
  {
   "cell_type": "code",
   "execution_count": null,
   "metadata": {},
   "outputs": [],
   "source": [
    "# Escolhendo os dados que serão utilizados\n",
    "\n",
    "agua_mineral_df = df[['Amostra',\n",
    "                      'pH 25°C',\n",
    "                      'Temperatura (C°)',\n",
    "                      'Condutividade a25°C (μS/cm)',\n",
    "                      'Resíduo Evaporação (mg/L)',\n",
    "                      'Bicarbonato (mg/L)',\n",
    "                      'Cálcio (mg/L)',\n",
    "                      'Magnésio (mg/L)',\n",
    "                      'Cloreto (mg/L)',\n",
    "                      'Nitrato (mg/L)',\n",
    "                      'Sódio (mg/L)',\n",
    "                      'Potássio (mg/L)',\n",
    "                      'Sulfato (mg/L)']]\n",
    "agua_mineral_df"
   ]
  },
  {
   "cell_type": "code",
   "execution_count": null,
   "metadata": {},
   "outputs": [],
   "source": [
    "agua_mineral_df.shape"
   ]
  },
  {
   "cell_type": "code",
   "execution_count": null,
   "metadata": {},
   "outputs": [],
   "source": [
    "#Retirando a coluna \"Amostras\" \n",
    "agua_df = agua_mineral_df.iloc[:,1:]\n",
    "agua_df"
   ]
  },
  {
   "cell_type": "code",
   "execution_count": null,
   "metadata": {},
   "outputs": [],
   "source": [
    "agua_df.shape"
   ]
  },
  {
   "cell_type": "markdown",
   "metadata": {},
   "source": [
    "## Autoescalamento dos dados "
   ]
  },
  {
   "cell_type": "markdown",
   "metadata": {},
   "source": [
    "Com a matriz de dados já preparada para ser analisada, vamos agora autoescalar os dados. Os dados serão autoescalado centrando na média."
   ]
  },
  {
   "cell_type": "code",
   "execution_count": null,
   "metadata": {},
   "outputs": [],
   "source": [
    "# Transformando os dados em matrizes com numpy\n",
    "# Criando a matriz x com as 12 colunas de variáveis\n",
    "\n",
    "\n",
    "x = agua_df.values\n",
    "\n",
    "# Verificando o tamanho das matrizes\n",
    "print(x.shape)\n"
   ]
  },
  {
   "cell_type": "code",
   "execution_count": null,
   "metadata": {},
   "outputs": [],
   "source": [
    "# Mostrando a Matriz de dados x\n",
    "x"
   ]
  },
  {
   "cell_type": "code",
   "execution_count": null,
   "metadata": {},
   "outputs": [],
   "source": [
    "# Centrando os dados na média\n",
    "x_mean = x-x.mean(axis=0)\n",
    "x_mean"
   ]
  },
  {
   "cell_type": "code",
   "execution_count": null,
   "metadata": {},
   "outputs": [],
   "source": [
    "# Fazendo a transposta de x para calcular o desvio padrão\n",
    "transp_x = x.T\n",
    "transp_x"
   ]
  },
  {
   "cell_type": "code",
   "execution_count": null,
   "metadata": {},
   "outputs": [],
   "source": [
    "# Cálculo do desvio padrão de cada coluna\n",
    "x_std = []\n",
    "for column in transp_x:\n",
    "  x_std.append(column.std(ddof=1))\n",
    "\n",
    "x_std"
   ]
  },
  {
   "cell_type": "code",
   "execution_count": null,
   "metadata": {},
   "outputs": [],
   "source": [
    "# Divisão dos dados centrados na média pelo desvio padrão\n",
    "\n",
    "x_scaled =[]\n",
    "for row in x_mean:\n",
    "  x_scaled_row=[]\n",
    "  for i in range(0,len(row)):\n",
    "    x_scaled_row.append(row[i]/x_std[i])\n",
    "  x_scaled.append(x_scaled_row)\n",
    "\n",
    "x_scaled"
   ]
  },
  {
   "cell_type": "code",
   "execution_count": null,
   "metadata": {},
   "outputs": [],
   "source": [
    "# Transformando em matriz a lista criada dos desvio padrão\n",
    "x_scaled = np.array(x_scaled)"
   ]
  },
  {
   "cell_type": "code",
   "execution_count": null,
   "metadata": {},
   "outputs": [],
   "source": [
    "# Verificando o novo desvio padrão para ver se os dados estão centrados na média\n",
    "x_scaled.std(axis=0, ddof=1)"
   ]
  },
  {
   "cell_type": "markdown",
   "metadata": {},
   "source": [
    "Apesar que alguns pacotes já vem com o autoescalamento automático como no caso do pacote \"pca\" que vai ser usado mais a frente. Também há outras funções que fazem o autoescalamento como o fit e o tranfsform. Nesse caso, foi feito passo a passo para diminuir o entroncamento."
   ]
  },
  {
   "cell_type": "markdown",
   "metadata": {},
   "source": [
    "## Matriz de correlações e mapa de calor"
   ]
  },
  {
   "cell_type": "code",
   "execution_count": null,
   "metadata": {},
   "outputs": [],
   "source": [
    "# Criar nova dataframe com x_scaled data\n",
    "new_df = pd.DataFrame(data = x_scaled,\n",
    "                        columns=['pH 25°C',\n",
    "                      'Temperatura (C°)',\n",
    "                      'Condutividade a25°C (μS/cm)',\n",
    "                      'Resíduo Evaporação (mg/L)',\n",
    "                      'Bicarbonato (mg/L)',\n",
    "                      'Cálcio (mg/L)',\n",
    "                      'Magnésio (mg/L)',\n",
    "                      'Cloreto (mg/L)',\n",
    "                      'Nitrato (mg/L)',\n",
    "                      'Sódio (mg/L)',\n",
    "                      'Potássio (mg/L)',\n",
    "                      'Sulfato (mg/L)'],\n",
    "                      index=agua_df.index)\n",
    "new_df"
   ]
  },
  {
   "cell_type": "code",
   "execution_count": null,
   "metadata": {},
   "outputs": [],
   "source": [
    "# Cálculo da matriz de correlações \n",
    "corr = new_df.corr()\n",
    "corr"
   ]
  },
  {
   "cell_type": "code",
   "execution_count": null,
   "metadata": {},
   "outputs": [],
   "source": [
    "# Mapa de calor das correlações \n",
    "sns.heatmap(corr,\n",
    "        xticklabels=corr.columns,\n",
    "        yticklabels=corr.columns,cmap='YlGnBu')"
   ]
  },
  {
   "cell_type": "markdown",
   "metadata": {},
   "source": [
    "Com o mapa de calor, pode-se ver que o resíduo de evaporação tem uma forte correlação com a condutividade. O cloreto também tem uma boa correlação entre o sulfato e a temperatura não tem quase correlação com o magnésio. Assim, com o mapa de calor, pode-se ver fatores que são dependentes ou independentes entre si dentro da análise de água. "
   ]
  },
  {
   "cell_type": "markdown",
   "metadata": {},
   "source": [
    "## Análise de todos os componentes"
   ]
  },
  {
   "cell_type": "code",
   "execution_count": null,
   "metadata": {},
   "outputs": [],
   "source": [
    "from sklearn.decomposition import PCA\n",
    "\n",
    "pcaT = PCA(n_components=12)\n",
    "pcaT"
   ]
  },
  {
   "cell_type": "code",
   "execution_count": null,
   "metadata": {},
   "outputs": [],
   "source": [
    "pcaT.fit(x_scaled)"
   ]
  },
  {
   "cell_type": "code",
   "execution_count": null,
   "metadata": {},
   "outputs": [],
   "source": [
    "# Variância das compoentes principais\n",
    "# O quanto cada componente explica \n",
    "var_ratioT = pcaT.explained_variance_ratio_\n",
    "\n",
    "#arrendondando os valores\n",
    "np.round(var_ratioT,2)"
   ]
  },
  {
   "cell_type": "code",
   "execution_count": null,
   "metadata": {},
   "outputs": [],
   "source": [
    "# Variância Acumulada\n",
    "var_ratioT.cumsum()"
   ]
  },
  {
   "cell_type": "markdown",
   "metadata": {},
   "source": [
    "## Análise de 2 componentes principais"
   ]
  },
  {
   "cell_type": "code",
   "execution_count": null,
   "metadata": {},
   "outputs": [],
   "source": [
    "# Considerando apenas 2 componentes principais\n",
    "pca1=PCA(n_components=2)\n",
    "pca_scores = pca1.fit(x_scaled)\n",
    "pca_x = pca_scores.transform(x_scaled)"
   ]
  },
  {
   "cell_type": "code",
   "execution_count": null,
   "metadata": {},
   "outputs": [],
   "source": [
    "pca_x.shape"
   ]
  },
  {
   "cell_type": "code",
   "execution_count": null,
   "metadata": {},
   "outputs": [],
   "source": [
    "# Variância das compoentes principais\n",
    "var_ratio = pca1.explained_variance_ratio_\n",
    "\n",
    "#arrendondando os valores\n",
    "np.round(var_ratio,2)"
   ]
  },
  {
   "cell_type": "code",
   "execution_count": null,
   "metadata": {},
   "outputs": [],
   "source": [
    "# Melhorar a visualização\n",
    "PC_escores_df = pd.DataFrame(data=pca_x,columns=['PC1', 'PC2'], index=agua_mineral_df['Amostra'])\n",
    "PC_escores_df"
   ]
  },
  {
   "cell_type": "code",
   "execution_count": null,
   "metadata": {},
   "outputs": [],
   "source": [
    "# Gráfico de  Escores PCA\n",
    "fig, ax = plt.subplots(1,1,figsize=(10,5))\n",
    "\n",
    "#plotar gráfico de pontos\n",
    "ax.scatter(PC_escores_df['PC1'], PC_escores_df['PC2'])\n",
    "\n",
    "#Adicionando legendas\n",
    "for index, series in PC_escores_df.iterrows():\n",
    "    ax.text(series[0]+0.05, series[1]+0.05,index)\n",
    "\n",
    "# Ajuste gráfico\n",
    "ax.set_xlabel('PC 1')\n",
    "ax.set_ylabel('PC 2')\n",
    "ax.set_title(\"PCA - Escores (2 componentes)\")\n",
    "#ax.set_ylim(-3,3)\n",
    "#ax.set_xlim(-2,4)\n",
    "#ax.grid()"
   ]
  },
  {
   "cell_type": "code",
   "execution_count": null,
   "metadata": {},
   "outputs": [],
   "source": [
    "#Calculando os pesos\n",
    "pesos = pca1.components_\n",
    "pesos.shape"
   ]
  },
  {
   "cell_type": "code",
   "execution_count": null,
   "metadata": {},
   "outputs": [],
   "source": [
    "pesos"
   ]
  },
  {
   "cell_type": "code",
   "execution_count": null,
   "metadata": {},
   "outputs": [],
   "source": [
    "pesosT = pesos.transpose()\n",
    "pesosT"
   ]
  },
  {
   "cell_type": "code",
   "execution_count": null,
   "metadata": {},
   "outputs": [],
   "source": [
    "#Criando um dataframe dos pesos para melhorar visualização\n",
    "PC_pesos_df = pd.DataFrame(data=pesosT,\n",
    "                            columns=['PC1', 'PC2'],\n",
    "                            index=['pH 25°C',\n",
    "                                  'Temperatura (C°)',\n",
    "                                  'Condutividade a25°C (μS/cm)',\n",
    "                                  'Resíduo Evaporação (mg/L)',\n",
    "                                  'Bicarbonato (mg/L)',\n",
    "                                  'Cálcio (mg/L)',\n",
    "                                  'Magnésio (mg/L)',\n",
    "                                  'Cloreto (mg/L)',\n",
    "                                  'Nitrato (mg/L)',\n",
    "                                  'Sódio (mg/L)',   \n",
    "                                  'Potássio (mg/L)',\n",
    "                                  'Sulfato (mg/L)'])\n",
    "PC_pesos_df"
   ]
  },
  {
   "cell_type": "code",
   "execution_count": null,
   "metadata": {},
   "outputs": [],
   "source": [
    "# Gráfico de pesos de PCA\n",
    "fig, ax = plt.subplots(1,1,figsize=(10,5))\n",
    "\n",
    "#plotar gráfico de pontos\n",
    "ax.scatter(PC_pesos_df['PC1'], PC_pesos_df['PC2'])\n",
    "\n",
    "#Adicionando legendas\n",
    "for index, series in PC_pesos_df.iterrows():\n",
    "    ax.text(series[0]+0.02, series[1]+0.02,index)\n",
    "\n",
    "# Ajuste gráfico\n",
    "ax.set_xlabel('PC 1')\n",
    "ax.set_ylabel('PC 2')\n",
    "ax.set_title(\"PCA - Pesos (2 componentes)\")\n",
    "#ax.set_ylim(-2,2)\n",
    "#ax.set_xlim(-1,1)\n",
    "#ax.grid()"
   ]
  },
  {
   "cell_type": "markdown",
   "metadata": {},
   "source": [
    "# T² Hotelling\n",
    "Cálculo do limite de T² Hotelling e do p-value."
   ]
  },
  {
   "cell_type": "code",
   "execution_count": null,
   "metadata": {},
   "outputs": [],
   "source": [
    "from sklearn import decomposition\n",
    "import scipy\n",
    "\n",
    "#Calculo do limite da elipse com os escores\n",
    "theta = np.concatenate((np.linspace(-np.pi, np.pi, 50), np.linspace(np.pi, -np.pi, 50)))\n",
    "circle = np.array((np.cos(theta), np.sin(theta)))\n",
    "sigma = np.cov(np.array((pca_x[:, 0], pca_x[:, 1])))\n",
    "ed = np.sqrt(scipy.stats.chi2.ppf(0.95, 2))\n",
    "ell = np.transpose(circle).dot(np.linalg.cholesky(sigma) * ed)\n",
    "a, b = np.max(ell[: ,0]), np.max(ell[: ,1]) #95% limite de confiança para  a elipse\n",
    "t = np.linspace(0, 2 * np.pi, 100)\n",
    "\n",
    "\n",
    "\n",
    "#Código adaptado de um código em R"
   ]
  },
  {
   "cell_type": "code",
   "execution_count": null,
   "metadata": {},
   "outputs": [],
   "source": [
    "import matplotlib.cm as cm\n",
    "\n",
    "# Gráfico de Elipse\n",
    "fig, ax = plt.subplots(1,1,figsize=(12,6))\n",
    "\n",
    "\n",
    "#plotar gráfico de pontos\n",
    "#Adicionando cor aos pontos\n",
    "colors = np.array([\"red\",\"green\",\"blue\",\"lime\",\"orangered\",\"black\",\"orange\",\"purple\",\"indigo\",\"brown\",\"darkgray\",\"cyan\",\"magenta\",\"darkgreen\",\"hotpink\"])\n",
    "ax.scatter(pca_x[:, 0], pca_x[:, 1],marker='x',c=colors)\n",
    "\n",
    "\n",
    "#ellipse\n",
    "ax.plot(a * np.cos(t), b * np.sin(t), color = 'red')\n",
    "\n",
    "#Adicionando legendas\n",
    "for index, series in PC_escores_df.iterrows():\n",
    "    ax.text(series[0]+0.05, series[1]+0.05,index)\n",
    "\n",
    "# Ajuste gráfico\n",
    "ax.set_xlabel(\"PC 1\")\n",
    "ax.set_ylabel(\"PC 2\")\n",
    "ax.set_title(\"Elipse com T² Hotelling com intervalo de 95% de confiança \")\n",
    "#ax.set_ylim(-3,3)\n",
    "ax.set_xlim(-3.5,6)\n",
    "#ax.grid(color = 'lightgray', linestyle = '--')"
   ]
  },
  {
   "cell_type": "markdown",
   "metadata": {},
   "source": [
    "Os dados que ultrapassam as bordas da elipse estão fora dos limites de confiança de 95%. "
   ]
  },
  {
   "cell_type": "code",
   "execution_count": null,
   "metadata": {},
   "outputs": [],
   "source": [
    "import numpy as np\n",
    "from sklearn import datasets\n",
    "from scipy.stats import f\n",
    "\n",
    "def TwoSampleT2Test(X, Y):\n",
    "    nx, p = X.shape\n",
    "    ny, _ = Y.shape\n",
    "    delta = np.mean(X, axis=0) - np.mean(Y, axis=0)\n",
    "    Sx = np.cov(X, rowvar=False)\n",
    "    Sy = np.cov(Y, rowvar=False)\n",
    "    S_pooled = ((nx-1)*Sx + (ny-1)*Sy)/(nx+ny-2)\n",
    "    t_squared = (nx*ny)/(nx+ny) * np.matmul(np.matmul(delta.transpose(), np.linalg.inv(S_pooled)), delta)\n",
    "    statistic = t_squared * (nx+ny-p-1)/(p*(nx+ny-2))\n",
    "    F = f(p, nx+ny-p-1)\n",
    "    p_value = 1 - F.cdf(statistic)\n",
    "    print(f\"Test statistic: {statistic}\\nDegrees of freedom: {p} and {nx+ny-p-1}\\np-value: {p_value}\")\n",
    "    return statistic, p_value"
   ]
  },
  {
   "cell_type": "code",
   "execution_count": null,
   "metadata": {},
   "outputs": [],
   "source": [
    "TwoSampleT2Test(pca_x, pesosT)"
   ]
  },
  {
   "cell_type": "markdown",
   "metadata": {},
   "source": [
    "## Análise de PCA com o pacote pca"
   ]
  },
  {
   "cell_type": "code",
   "execution_count": null,
   "metadata": {},
   "outputs": [],
   "source": [
    "from pca import pca\n",
    "import pandas as pd\n",
    "import numpy as np\n"
   ]
  },
  {
   "cell_type": "markdown",
   "metadata": {},
   "source": [
    "Com esse pacote foi feita a mesma análise que a anterior mas utilizando o pacote pca. "
   ]
  },
  {
   "cell_type": "code",
   "execution_count": null,
   "metadata": {},
   "outputs": [],
   "source": [
    "#Initialize\n",
    "#dentro do parenteses pode se escolher a quantidade de componentes que se quer estudar com 'n_componentes'\n",
    "# Nessa parte, como não foi escolhida a quantidade de componentes, o pacote vai fazer a análise completa por definição\n",
    "model = pca(normalize=True) \n",
    "\n",
    "\n",
    "\n",
    "#Fit transform and include the column labels and row labels\n",
    "#Foi usada a matriz x antes dos valores serem autoescalados pois o autoescalamento é automático.\n",
    "results = model.fit_transform(x, \n",
    "                            col_labels=['pH 25°C',\n",
    "                                 'Temperatura (C°)',\n",
    "                                 'Condutividade a25°C (μS/cm)',\n",
    "                                  'Resíduo Evaporação (mg/L)',\n",
    "                                  'Bicarbonato (mg/L)',\n",
    "                                  'Cálcio (mg/L)',\n",
    "                                  'Magnésio (mg/L)',\n",
    "                                  'Cloreto (mg/L)',\n",
    "                                  'Nitrato (mg/L)',\n",
    "                                  'Sódio (mg/L)',   \n",
    "                                  'Potássio (mg/L)',\n",
    "                                  'Sulfato (mg/L)'],\n",
    "                             row_labels=agua_mineral_df['Amostra'])\n"
   ]
  },
  {
   "cell_type": "code",
   "execution_count": null,
   "metadata": {},
   "outputs": [],
   "source": [
    "# Faz a análise dos pesos \n",
    "loadings = results['loadings']\n",
    "loadings"
   ]
  },
  {
   "cell_type": "code",
   "execution_count": null,
   "metadata": {},
   "outputs": [],
   "source": [
    "#Análise dos escores\n",
    "scores = results['PC']\n",
    "scores"
   ]
  },
  {
   "cell_type": "code",
   "execution_count": null,
   "metadata": {},
   "outputs": [],
   "source": [
    "# Include the outlier detection\n",
    "# Gráfico de escores com a detecção de outliers representados por 'x'\n",
    "model.scatter(hotellingt2=True,figsize=(12,6),legend=False,label=False)"
   ]
  },
  {
   "cell_type": "code",
   "execution_count": null,
   "metadata": {},
   "outputs": [],
   "source": [
    "#Here again, many other options can be turned on and off\n",
    "#Gráfico de pesos, escores e elipse de T² hotelling \n",
    "model.biplot(n_feat = 10,SPE=True, hotellingt2=True,figsize=(12,6),legend=False,title='Gráfico de Pesos, Escores e limite de T² Hotelling')\n",
    "\n"
   ]
  },
  {
   "cell_type": "markdown",
   "metadata": {},
   "source": [
    "Outlier pode ser detectado usando SPE/DmodX (distância ao modelo) com base na média e covariância das 2 primeiras dimensões de X. No plano do modelo (SPE ≈ 0). Note-se que o SPE ou o T2 da Hotelling são complementares entre si"
   ]
  },
  {
   "cell_type": "markdown",
   "metadata": {},
   "source": [
    "A extração das variáveis de melhor desempenho é baseada nos pesos dos Componentes Principais, que são prontamente calculados. As informações são armazenadas no próprio objeto e podemos extraí-las conforme mostrado abaixo."
   ]
  },
  {
   "cell_type": "code",
   "execution_count": null,
   "metadata": {},
   "outputs": [],
   "source": [
    "# Determinação do desempenho das variáveis e quais são mais importantes para explicar as amostras\n",
    "print(model.results['topfeat'])\n"
   ]
  },
  {
   "cell_type": "markdown",
   "metadata": {},
   "source": [
    "A maior variância é explicada pelo PC1 dado pelo resíduo de evaporação. Para o PC2, a maior variância é explicada pelo Cloreto. \n",
    "A partir da temperatura, a variância não é tão bem explicada\n"
   ]
  },
  {
   "cell_type": "markdown",
   "metadata": {},
   "source": [
    "O gráfico a seguir a variância acumulada dos componentes principais por cada coponente principal. \n",
    "Nesse estudo, já se sabe pela seção anterior, que 5 componentes principais explicam 95% da variância e não 98,2% como mostrado nesse gráfico. O próprio cruzamento das linhas vermelhas estão erradas já que não estão em cima do ponto de componente principal 6."
   ]
  },
  {
   "cell_type": "code",
   "execution_count": null,
   "metadata": {},
   "outputs": [],
   "source": [
    "model.plot()\n",
    "\n",
    "#Infelizmente esse gráfico não é confiável. Pessoalmente acredito que deve ter algum erro no código. "
   ]
  },
  {
   "cell_type": "markdown",
   "metadata": {},
   "source": [
    "Variância acumulada e variância explicada por cada componente principal. Confere com a seção anterior."
   ]
  },
  {
   "cell_type": "code",
   "execution_count": null,
   "metadata": {},
   "outputs": [],
   "source": [
    "# Cumulative explained variance\n",
    "print(model.results['explained_var'])\n",
    "\n",
    "\n",
    "# Explained variance per PC\n",
    "print(model.results['variance_ratio'])\n"
   ]
  },
  {
   "cell_type": "markdown",
   "metadata": {},
   "source": [
    "## Dendograma\n",
    "\n",
    "O dendograma verifica a similaridade entre as amostras através da distância. \n",
    "O dendograma do plotly verifica as distâncias pela distância Euclidiana."
   ]
  },
  {
   "cell_type": "code",
   "execution_count": null,
   "metadata": {},
   "outputs": [],
   "source": [
    "import plotly.figure_factory as ff\n",
    "import numpy as np\n",
    "\n",
    "amostras = ['1','2','3','4','5','6','7','8','9','10','11','12','13','14','15']\n",
    "#color_dend = [\"red\",\"green\",\"blue\",\"lime\",\"orangered\",\"black\",\"orange\",\"purple\",\"indigo\",\"brown\",\"darkgray\",\"cyan\",\"magenta\",\"darkgreen\",\"hotpink\"]\n",
    "fig = ff.create_dendrogram(x_scaled,color_threshold=3.5,labels=amostras)\n",
    "fig.update_layout(width=1000, height=600)\n",
    "fig.show()"
   ]
  },
  {
   "cell_type": "markdown",
   "metadata": {},
   "source": [
    "Foi bem possível estudar as amostras de água mineral através do modelo PCA. \n",
    "Um relatório mais detalhado sobre os resultados e a conclusão estão disponíveis para leitura."
   ]
  }
 ],
 "metadata": {
  "interpreter": {
   "hash": "916dbcbb3f70747c44a77c7bcd40155683ae19c65e1c03b4aa3499c5328201f1"
  },
  "kernelspec": {
   "display_name": "Python 3.8.10 64-bit",
   "language": "python",
   "name": "python3"
  },
  "language_info": {
   "codemirror_mode": {
    "name": "ipython",
    "version": 3
   },
   "file_extension": ".py",
   "mimetype": "text/x-python",
   "name": "python",
   "nbconvert_exporter": "python",
   "pygments_lexer": "ipython3",
   "version": "3.8.10"
  },
  "orig_nbformat": 4
 },
 "nbformat": 4,
 "nbformat_minor": 2
}
